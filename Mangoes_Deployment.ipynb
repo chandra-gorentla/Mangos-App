{
  "nbformat": 4,
  "nbformat_minor": 0,
  "metadata": {
    "colab": {
      "name": "Mangoes-Deployment.ipynb",
      "provenance": [],
      "collapsed_sections": [],
      "include_colab_link": true
    },
    "kernelspec": {
      "name": "python3",
      "display_name": "Python 3"
    },
    "language_info": {
      "name": "python"
    }
  },
  "cells": [
    {
      "cell_type": "markdown",
      "metadata": {
        "id": "view-in-github",
        "colab_type": "text"
      },
      "source": [
        "<a href=\"https://colab.research.google.com/github/chandra-gorentla/Mangos-App/blob/master/Mangoes_Deployment.ipynb\" target=\"_parent\"><img src=\"https://colab.research.google.com/assets/colab-badge.svg\" alt=\"Open In Colab\"/></a>"
      ]
    },
    {
      "cell_type": "code",
      "source": [
        "'''\n",
        "!pip install fastai\n",
        "from fastai.vision.all import *\n",
        "from fastai.vision.widgets import *\n",
        "'''"
      ],
      "metadata": {
        "id": "Fy041EFjE7Ty"
      },
      "execution_count": null,
      "outputs": []
    },
    {
      "cell_type": "code",
      "source": [
        "data_path = Path()"
      ],
      "metadata": {
        "id": "mQtIoLW3I4nO"
      },
      "execution_count": 2,
      "outputs": []
    },
    {
      "cell_type": "code",
      "source": [
        "infer_learn = load_learner(data_path/'export.pkl', cpu=True)"
      ],
      "metadata": {
        "id": "9CM-XByhFc0n"
      },
      "execution_count": null,
      "outputs": []
    },
    {
      "cell_type": "code",
      "source": [
        "upload_image_button = widgets.FileUpload()"
      ],
      "metadata": {
        "id": "7uHKBPEEF73S"
      },
      "execution_count": null,
      "outputs": []
    },
    {
      "cell_type": "code",
      "source": [
        "classify_button = widgets.Button(description='Classify Mango')"
      ],
      "metadata": {
        "id": "dzQhOqqScOgQ"
      },
      "execution_count": null,
      "outputs": []
    },
    {
      "cell_type": "code",
      "source": [
        "out_pl = widgets.Output()\n",
        "lable = widgets.Label()\n",
        "def on_classify_button(change):\n",
        "  upl_image = PILImage.create(upload_image_button.data[-1])\n",
        "  out_pl.clear_output()\n",
        "  with out_pl: display(upl_image.to_thumb(64))\n",
        "  cat, cat_idx, prob = infer_learn.predict(upl_image)\n",
        "  lable.value = f'Category - {cat}, Probability - {prob[cat_idx]:.04f}'\n",
        "\n",
        "classify_button.on_click(on_classify_button)"
      ],
      "metadata": {
        "id": "gwVcqmUbFoPi"
      },
      "execution_count": null,
      "outputs": []
    },
    {
      "cell_type": "code",
      "source": [
        "#hide_output\n",
        "VBox([widgets.Label('Select your Mango!'), \n",
        "      upload_image_button, classify_button, out_pl, lable])"
      ],
      "metadata": {
        "id": "uJBQg9Evdiv7"
      },
      "execution_count": null,
      "outputs": []
    }
  ]
}