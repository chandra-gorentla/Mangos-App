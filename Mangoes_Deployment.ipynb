{
  "nbformat": 4,
  "nbformat_minor": 0,
  "metadata": {
    "colab": {
      "name": "Mangoes-Deployment.ipynb",
      "provenance": [],
      "collapsed_sections": [],
      "authorship_tag": "ABX9TyNeD/gSuIvM/AluKe968tyH",
      "include_colab_link": true
    },
    "kernelspec": {
      "name": "python3",
      "display_name": "Python 3"
    },
    "language_info": {
      "name": "python"
    },
    "widgets": {
      "application/vnd.jupyter.widget-state+json": {
        "c055b4bb837c48e78622f6e4230c3118": {
          "model_module": "@jupyter-widgets/controls",
          "model_name": "VBoxModel",
          "model_module_version": "1.5.0",
          "state": {
            "_dom_classes": [],
            "_model_module": "@jupyter-widgets/controls",
            "_model_module_version": "1.5.0",
            "_model_name": "VBoxModel",
            "_view_count": null,
            "_view_module": "@jupyter-widgets/controls",
            "_view_module_version": "1.5.0",
            "_view_name": "VBoxView",
            "box_style": "",
            "children": [
              "IPY_MODEL_25aef5adcec541dab8b3ab4cd12451f7",
              "IPY_MODEL_9a8d6cd9bd134575a45a2d9c0e136225",
              "IPY_MODEL_ae36873722d040f5a53759792ad28711",
              "IPY_MODEL_f9e26c71ad574bf6b01ffea752dce006",
              "IPY_MODEL_51e62be9a45046caace202faed363dfc"
            ],
            "layout": "IPY_MODEL_52cb5b7dbcb34c32bcca6d5dad2b0afc"
          }
        },
        "25aef5adcec541dab8b3ab4cd12451f7": {
          "model_module": "@jupyter-widgets/controls",
          "model_name": "LabelModel",
          "model_module_version": "1.5.0",
          "state": {
            "_dom_classes": [],
            "_model_module": "@jupyter-widgets/controls",
            "_model_module_version": "1.5.0",
            "_model_name": "LabelModel",
            "_view_count": null,
            "_view_module": "@jupyter-widgets/controls",
            "_view_module_version": "1.5.0",
            "_view_name": "LabelView",
            "description": "",
            "description_tooltip": null,
            "layout": "IPY_MODEL_f27be77b21964db6b7a48c6ec7889c89",
            "placeholder": "​",
            "style": "IPY_MODEL_e26d8d5a93c64a40816ae43466c08dc2",
            "value": "Select your Mango!"
          }
        },
        "9a8d6cd9bd134575a45a2d9c0e136225": {
          "model_module": "@jupyter-widgets/controls",
          "model_name": "FileUploadModel",
          "model_module_version": "1.5.0",
          "state": {
            "_counter": 1,
            "_dom_classes": [],
            "_model_module": "@jupyter-widgets/controls",
            "_model_module_version": "1.5.0",
            "_model_name": "FileUploadModel",
            "_view_count": null,
            "_view_module": "@jupyter-widgets/controls",
            "_view_module_version": "1.5.0",
            "_view_name": "FileUploadView",
            "accept": "",
            "button_style": "",
            "data": [
              null
            ],
            "description": "Upload",
            "description_tooltip": null,
            "disabled": false,
            "error": "",
            "icon": "upload",
            "layout": "IPY_MODEL_e8a4510cff7f4cba9d27df2081237e09",
            "metadata": [
              {
                "name": "dasheri.jpg",
                "type": "image/jpeg",
                "size": 5639,
                "lastModified": 1655651198749
              }
            ],
            "multiple": false,
            "style": "IPY_MODEL_c22d524ec5ce49569828ec5019b2c3db"
          }
        },
        "ae36873722d040f5a53759792ad28711": {
          "model_module": "@jupyter-widgets/controls",
          "model_name": "ButtonModel",
          "model_module_version": "1.5.0",
          "state": {
            "_dom_classes": [],
            "_model_module": "@jupyter-widgets/controls",
            "_model_module_version": "1.5.0",
            "_model_name": "ButtonModel",
            "_view_count": null,
            "_view_module": "@jupyter-widgets/controls",
            "_view_module_version": "1.5.0",
            "_view_name": "ButtonView",
            "button_style": "",
            "description": "Classify Mango",
            "disabled": false,
            "icon": "",
            "layout": "IPY_MODEL_c651d14766f247caaa3d696bd69f39f5",
            "style": "IPY_MODEL_f9508d133cbe458bbaa3401adad8dafe",
            "tooltip": ""
          }
        },
        "f9e26c71ad574bf6b01ffea752dce006": {
          "model_module": "@jupyter-widgets/output",
          "model_name": "OutputModel",
          "model_module_version": "1.0.0",
          "state": {
            "_dom_classes": [],
            "_model_module": "@jupyter-widgets/output",
            "_model_module_version": "1.0.0",
            "_model_name": "OutputModel",
            "_view_count": null,
            "_view_module": "@jupyter-widgets/output",
            "_view_module_version": "1.0.0",
            "_view_name": "OutputView",
            "layout": "IPY_MODEL_f739a4c238f04585b67698dedb02bebd",
            "msg_id": "",
            "outputs": [
              {
                "output_type": "display_data",
                "data": {
                  "text/plain": "<PIL.Image.Image image mode=RGB size=64x64 at 0x7FC9A35DEB50>",
                  "image/png": "iVBORw0KGgoAAAANSUhEUgAAAEAAAABACAIAAAAlC+aJAAAZ4UlEQVR4nLWaaYxl13Hf/1Vnufe+rbune2a6h7OQI1I0SZGiSZlarMiOFEGWbCmJ5SxIoDhI4BhGVgRxFmRDICCfkhgK4ARZ4CUILDuQEm+yIyGS5UWLZZkSSUsUF424zdLT0z3dr9+7yzmnqvJhRgZJh6MxoZxvF3jv3Pq9OnVeLX8yM9zMMhgMVAADyACYgzFxMgxqEfAAExmMiBRQgjeQGpjAMJgamIjMjKAqQs5f3xoAiIhvypKXLn+zHySDKcwDBIPwACJHTAgEMVmKDqp9yr0VNU0inSqZsdhARD54IiZfxbgS/WpwK8SRrtlOBSjX+F8FAN2sByAGNQ0qxk4JTqXk4dzi8Ml28ayVK0O5otaqgtGDFqABIDOCy0oOLhY1xZTd0eA3Qzg5HZ+eje5u6plZgDERXpUD/lgAZjAPtiHv9Fcfaa8+kvtHK9p2WIrtK+0BpfLrRhtZk9ohUERITAtc4QphBOoAyTbppS42In/P2uQ7NtfeOG3uIER2/z8BzEwNjmx5+NQLF/4ntR+psVP77DUFImIIeeLoLShBKKmlVHqQGVcFMXE1GMyyWp8ZVxe5oJLYWNqs3L1njn//yWNvrcOGqrEbgHjzx+lmY0CpGGh+8NXtC/+G+t+qsRtgUFYSgVU8UbdpVKW0D1wWM0WtGpQzQQyiWBr3udCyX4ovQn6xyHk/qQ3wzy/7J/cOv/L623+48ievXxZ0k3bdNIApte257Qv/Jdqn6upKcCtSerLkmBmVcs3cD7ktmkO9aogqNbFT6cTmSlZkmTEXqSAAuaE1T2h7FmTG/rzfW148n2V+/x1/exRPmoJu+jh9a4BrZ8zD773w8Vg+MUkb3AwgF0IDUxJnNipcky6IpbhQ5KTzGxkoUgQdbAxTsgWKM12ykRZfB+6z1E0nUmcNXJrlsPsc/0oTt+47+zccj27W/JvzgIE4tU/Jwa9uNAtTGaRiVGSdcxz82HSlVw0YQKIc+kIwUSrmW7EFJBHYkY9+bKnjYBCOjotIaVcO9hEnBJaUY7LzL1Sf2Ji+8fTWmwAAN3WMbghQAGoHl0hX2u3fntI+u2rgwduBiSciNZc0Ekc2TbpeVFVVcLXkgyY2lhUiqkU1kRfiUsUmSSFVwEBwVV+tigVxtZvkfjG3eXf+2d1PbK6/Lobpzdl/Q4DixFkwYwy7h3ufrrHIicntOSGFOrdGtiqU4VuChwEGNqtcn4Zll733FVNg8oVESyHHQHAcqoq1lKBlNAl+xIsBXRJvKAVdmu8cPDFvL26sTm/K/BsAGEwoMWqPIMN55HOpXPU8Jt9ZntV17vurgHP1UmXBdJRF2JSkSL+MJuSiWqcUQRN2WopBycDFBMEFH4KmAiWEQrBC/aFbdoON56G7nGRxk9bfCIAAZ4FNwEjJhkXjLDMOJ6MZsaIoydJosGLsHKMlVTJBKUGSJ2QdipJyBg9ETmEMMlPneChdAhUVM1N4M26Xeb5fkkjDZOSNxt8GAIDYnFkhK66uhW+v+EnvL/WLGr530jB7CoNpBa0K+mKqDLB64yKmovBeSlHumFiUQGyMUsTID7kUJbFJ1tKncrjMWcZDr/s77ZET42kzAzLAsG/epmTXkkgYvSw2bhQDwsIWnHI9jnHj7nzlc7Hd90gDTHLvvYEEEGIhYiN0OasnEzFVJSaAAFJnjgWqqhkumy9ipVAuarZIgsXCHR40fYp7V4dNO3l69o6JW4eygQAFDQDDIqjAGOYJL7mfbgRAMIIZHNH6xrGHtnd+s+3Oj1ngVC1JAQscGxyKKxmqqqJEUGNVoEudwiWpyVOxZKxtZ91AQpZhQ1Ykhp/tH+LiXrvfzdtFuf30g/e97p1gBSJdf72DMYFADiSgDPgXE9wIgMEgGKOoTdbv3549OO8+5l2PMiFucumQcqDsAmcvBUbBQZViHHLusiSgmHUiAfWyzwo3b4c2m3k/mBs0LDpuW714QR/50uDz7H1vf/df+f4fH8WqG86BEkCOVit3ixojdozKzIHk+ln6w1/5BsmcAYANpQWZd6Esv/KlT/xL7P7u5i3t1f3aVGeTli07YvOg6HqVAs1gISfMnWg2LDQvlqbqcvFF6bDX3UOeD9NLl/HMowf5YHaksfvvr9/2J9bvvvu4r2u4qWLF6QScIL72p2dr9zeTuxyvkTmQ0UvzpJcCKICiJCKVusXy4Pz86qVueSFQ+8jvffa2zcVo4j78M7/L493veI0/OstHp3nkPFSgUlweyAq5YhCmHliqJnaJCHMZlm7B7oqkbzwXH3+k6fftjlvqt9xd33nf/ORrlivTGWPDrIFrnF8XG6tlUxO9IrmP7hTh7Orqu6Yr3y2eAphflKu+BEANSuKhXbd7fvtjh8vPs/EorpXsPvOJz549Xu56Y3Nx7/BT/9vqcFr082vjC2tRNyZUqUclFlHg1agTWRbtzBlYDvmqhG1dXtodbz/hnfHtd4U3vRG3nTqckCNv8EQejKnHKmgkUoOrrIOJU1zQcrWuwpBT1z2wdfxvHjnybu+c41fwQIYZjPLlrz/14cPD35it1D6MirKvxuMQfNonVxWJV7uvPH1hdPvJv/v4o7/79a/+bJ13V6a71QiuAntfzPpsfeFFr7m4K1fxtR07/9zo7Gz0zreXe+7H+rp5N8CEYw7uFrPVQoeqC1IPGhvGoKqg1xJyeQ68E7nKKVI4LvmhO05+cDy57RVvIWcKpIs7n1X38ImtddFNAo9i6bqDyq3V1dgoqa5o82Xg17729Jk/80Mfag//6jOPf/H5S5++dPnpK7vPzw8O2jQfcu46HlLMsuKbY8P5Z//yO/P3vrmdHoWFLpKxd0IrjsY5VUYqxAVeidTMYIAKZ+9ng0zV5kOOLFti1A5/sLf40nh624ttflFfwIiN2vZi1z0ymQzIqwglVlXDK15HgSeOarJO/fOzcuKu9Xs/8+R//vxjx9587z+/56F33oP3qeYhHRzO512335d5P/jZ6JYyXLxw7ifqcO7I0cM0KkumkQueowUiD+6rQgeFexFKVimPigQlb3CqTvoB1ji3SRg4LrvOF2p358+d2sL/A8AMMDKy/fZRs6/HXIeg2QJy6Fl53CTSUvadDV6js42NlVNnTywf++pPv/bUB9ZWNpnAHJp6o6k3gAI4gJ79xs89++y/2Nj4xngWhJXMV1TBMqF0V+lwEby7hKlo8Jobo9EgvkvmIhVVKtHswFGpec0k9mmnaO7Lfg7Ll12VHlCAASPWIW0fHH4tuFZdUK6MWmawNiwukA9EBmMSkDg9evzI+fMHTz/z3MfX7/vRl2ypKuXg8Sc+tLf/oa0T8xA8BYURNDDScJB3L9SwoGE5Wht7VDnBchiEehMfmtyVUNWhhklU0ZIPvYvIvUnW/ki9uvkyADaoKcxgyG33bM7PqS6ULJMoiVlxhMooGjgXlgKImKi4kbcjzfDc+Y+mPL/mxJyzGbSkx772D7f3PnhkOva8DuddqMBOjBXwLg69SwPFKohxSsEwU6rJeyNm2DhyQ8KWHYgNKkvN20460tbrmUlz9o96QABvBkI+XF4oeQ8epTCIAAdD4AFmBGIIaCjWKXXkhii8Xq+fv/zF3atPbx17gIiYnSqeeubf7+3/r/W1BiMsiVb5mEgv2ilZVvaVHbuVzFxGCU3IvlKOTBmSDMVM2JgEKqRKpOI4Oyy8a5IN43h6ZXr6m12wbwKQsbKQsZaDbvkM6FBsAayrNKCkBqNKTNRy5MK5d5wTsslF165O/PZsurx85eGtYw/AMhNduvSZc8//5HS2jLOZULY8WlpUAVPtnSMrlafxsdCVrhV15nNmKX4QTgYjE5RBzVNIoqSh9hUsQCeAQTemo3vH41sMTC/1AAHGRO2wl/MOKDErCCC6xipaoGqSM7SyzNYJDkELsnFTldkUV/YfAwRwqoePf/2n3GibqqpL3pSNdCk9FJFi9NFzdExqgVyjNnR9LDpOOhpUQdEz57LXlzaw8569b1QJalBOib1955kT3+Ocf1mt7AEjMGBdv5PkKjtxLpoBlMgcsyNksaXCjOpC2dPC9BAw+IXkNBmF3fnTUvacP7q9++ilg19b27R5sgINTomKqPMUlUAWFUgQydqJW5bJoLVaLeYKsuUC6ZzLngfvuWIEbyWxCIt61dtu3fxLR9fvVStE/LJs1GBspO2wLdh3rEwORqDieGxqWdompkW3HDAe0t5aLZWaWCRuHceKTMpuSvPGHz33wqfNXW7VqRGLByVHvWnl4qgO4+gmQpTkUMthL65g2udCGETFrIX2JR0IHzISh+B8gJqmmNOYeHN95QdOnXgPcyTYy5p216PBTJbLXdjSTL1voFzIUkqVq0T7lPaZctZBQxkMoTggGjqDy0NJQ1tEgf785S8X5T4FJQ0QBw21U5CZqaLPg5Dvcl9knszm3T7ZzHEwHcyWZrlPneNUeZgi9Q07p1oHnJxN3vyaW98f4xGghUXg5QWNA5HmwXLnLTkpLGrcqgRFvxwybNvRQRRXQTSMBw2Nr2rZ74Z+ng8W6LLLQmSGq/MdqdxoQNOE4DS4mnSUpM+5F89svliadwdFVaCpCCwBgAqTmTNEVmmSQM0hjqsQar51LX7/raffH8e3mBlh9Edbjv5alSmaRQdC79GWIcGJj1VvkoxMDzvkYhDfMQWnRLCiQ9aUiiaBWeOoBnxJ1WHKsS6uoT61RZyIZE1NrPucTWxI2qakhFSyCz6iBYyIjZ1aMRTLseSpr9ariDHfd2TlfbdsvteH1RsULR4ggqnlol2WZQwpSSIKVpZZKZsetgcWRqMwKZQCnNOs1qu1BVnJ94OwW/WuIvKbRx7cu/CbFQmytCpdHrKYqtTRqhDYRBKIuE/ZGKRGps6zsu+SGqJkYpNRsLqerMR3ntx899r6Q+YrRfKINwIAzEzMhoLSmnqREK0deqd1V7KrRsKrCeuiVFlwcqi8BA9GKmZdB1+NqyoCePDeH3zi+Z9nuYDsl13e7aWQq5zvkjH1VeC1yIFKNXJZRTRHsAi3ney3KYYRsq/d2ur4LXdsvefE1juqahOIZOXGLTpvBAIxaaa0zG3tYwwzkSqjT6ZmVcTYCYdQOVuDLcBiZJwcIxStNXR1dZxpZIbTJ+/+U2/58d/5wr9qVq8mz2Jh2blWZDq2aWVerHRMcL4iLZoyL8uoz7x3tXSHsV/a5sbZP/2uv3XX2XcEdyYzGRKbh3lAbsDgr1XIRF7hhSgXIw7G5CiLk4C6IhcpRQZ0ZrYEKQwmTs0KqqGUlektQABgFr7r3r+4Ot34zMO/cHnni5cPLuwdpsFjdezHnl3xNcGy7Fy2xX7s2xGRr2aubtJq7c+coCMbB89d+FmTp24/8aP17AzApkbOQAq8YrvdgwxGQMWYAk0vi0ADmZloYAQWRwWkIDiriSKZM5FskknFhC3OmusZOlk0Xbnztj9326l3nt/58jMXHn/6uacOhoVDtTLdWBkfe+yxr/2PX/yZ2aqdOtOcORNOHevrWRmvpElVVgNPmzDI85cvf4nay2du+5HZ2kPKTCRk7kYeuJbMOaqiWytSdbrjPYdq6q0O4hx5Qx5EQjV4MqKBVBi+5zxYn0rRUk2aEwAAYUeAM0j0s9u23n7b1tv/5IMAMuB2F898+nMf329/723v8reccCuzdlzbSlAKXLKtuNHYocF6BNt4p7iPbW/PqtGtrt4iK6T1KzvgOoBzLozqDb8ciciQDs1XlR/XfpKHkGRQBJUB/sB0QVY0q8C6PLRDpxIn9TEAIAEUIDNvIEImEoC70v76b3/ko5/8D1382pmNdM+xZhTyJGIcffCM4KmiifPRKTOHGAxr0DoNjxwcfHW9OQpT3HCI59nEzIzLKB4PNIMEH5dONHBRU+UFmWjKrmq5SFHJOih12ZZ9iUtbVtXZ6XgLACF8c08D1HQg55559rH/9Iv/7LNPffrICXvtCX9yrV4ZlSaUI5PgMag57ybRHfEumBYfKXAnvZVhkbNcev4jwZ85sn6neaVXnvl5WDSAiet6HFxTuZFpC5AxSpoTfHQBjhiaJYsK2BFFNuuGRdvx+uS2pl6/FgLXIwEdMCKafOoLP/3hX/8nvV157V1utlpOrNuEMap5XAVGXfmZj5WWWkpQRFhlYmZi2lWVE7JeLhl2AcD0BjNkD2MQAKqrdW8zr4HMkffqjMyIYIoYGuLAUVWiqDL5nKyX5ZDCuL6d3fWR1rX/S7K6L9sf/T//7pNf/K9uNl+r/WTG00bHjtYnlUeqIwebODqW+wyo6pAhpJwB8sWxQxHPArnats+urz9kyjeY+XlQBjk1q+PWOG7tL2JJtmgXZkZUBx/ZNUzjQgpZFpFcxDk35FJwKFbV1eYfpodmxsyX5k/+1Ef//tcv/draZtX3IY7yJGK9qSbB1dRMmirLYc4ZDszKfmmyHJJUYdTngQiOoxoHOEep667AiO1GI0sPZgapso+Tlendi+E32hRzGg0jGHKWIbpIkslIi4Jq0CxrJ3Y5S9VLapoVK9ePDzu+eOnR//jLf+eFg8+dPDNhs9VJqVZo4mhW+fXxZMRj1gHagrshX2QoS3ZOCSJl7qBaojm71mZY9JcqUyiDDK98j/pr/0HMzoDJ+G67uOIdCrkegzfV0kUee0fOGAJf1dEf7fWK9Ka6knSnqtaIoDQwV48+8Vs/97Ef6apzx4+H2aREFs8INdaayYqfjqypfAXHWWORRQjZWWUKx84MjoFi7GgYWtJymNNBPzo1PgViuIQb5kLXvW+G1dXbR6M37Q9PJr0gbaj9rPae4MkqMmJysN6FFNSYJwYpaVbFTRCY8PnHfvq//fIHq6PnZ2Ob1nl17APcuKmC15EPK7Gx3jOyaj8dTZZtMRPH2cjykEWN1EXncjmQIipoB8d0/8r09WAANwFARERgHh0/9r373/hi338m9fO44tSCIpuJoOlKIDf43MERXAM/Xyx8Ux817n/90//9U1/6eyduXa6ubkbfj+pcO0TEaTVhy7WrvBYXAO5LbhWx9rVo58AiokQgdUY6SLaci09D05dbt068Zzw9bSQ3uEOBl/ZGFbq6+tpp/dYuP6t6bsj73nEpY6ZoiDw+Vmi3K0bkCiyVhfPTerT24V/54MPP/duzd7ppGI3j1QIfq9g456VaqY54EdPBBwVaQetYGMTsYci9SjHAVT7mLkd2ZXBFVllPRX7b7Wffxy4qCltzA+nESwDMtIobW8fefHXxSZ92QP2AfR+nLs4KdjSNvGukDCZtag/6+d4qPfDlr37ksed+4p6ztjbjae29Ui4VwzuhOlSBLFJU10tpva8dTxylLKlN/VBKEibVaEAqprrQPID71FjZesMb/tqRtdeoimP/LdLpFz8QHLHccuLeCxffvVheAPZNuyFnaFusV90Lvh5Sp9YO3eHhldnlF+ZfP/6vX3e3roRRHZ1TX8eVOk6kqGOtApkWMERA3JhVWlSAUqyILyKCxIwsJqYwLqlpuy2jN73hDX/99Jl7ShHnvrXm46UzMiPiQpi+7q4PbH/+y8v2i+YPfNiuwpKdSOZlH6QUQ1JcvXJpbdwsNzcujTEdeXZWezf1GBvVLoBJHBtTURMfpsycS86SUjGBy+oUAZRTtjJYYF9S1jL24cH77//Rk6ffombe35SS5mUzMjEDjI2Xi/biF37vF7bnv0rxBbGO3TK64GhiSot29/JFpeV71089snX04oqrg2/MJr6aKUvCoGLjeuoQTIyUqqoWXXZpmx33qfS5G0rfpywmJVNOJoW67Jle/9bv/Md33fEegxG5mxR7vAygQJ2RKM3J1oa2ffzcR57f+cS8f0L0UnTJuzoP1HVl88gHHrjzz37m0Xet1jIbU+CzSlMXh5R7js45WEF0YxRmmFrONu/yJfNoez1cLo1I1doFso7bXJbtclR953c/8I8evOv9pJ64gF8lwMuXod/df/Lc87+/OHxBZAfoHa/ccvz+M7f+UFp+43Nf+IEq7hdIFe/yzTHy59EWxxMOg0rrwJbVuyFJO+iyWLfMWA6Uk5ZMWljEX17IQrVxd7zjwX/wxnt/0LkR4K6l5d8GuY1ZUXXrs/vW775PJKvtAxLclHiczEI1dv6erL/TVJSHQ6UKPuShjX43UHGczJyxDWgz5V5SEu06kkykAQVQSlYWCz+d3ft9b/mn97/2PeBkZkQv7729egCYJzJQBmfvGNgAACUYHKmPq2ur33dx+zFf2m7Yq1zFtJFkn9xSU6mipqHAqMcC7HvhRUtdliJikovwMMgwTM5ufuB73vJjd5y+05SACiR2/b3fFgDOdL0ccgYDesCBCTCCGuLZ2957sP9LZX6uadqrBzvGU19bXi5QShXVgZl4SXlIqe1AVO8vpc2W+kLgKhy589QPv/m7fuzoxmmTDGXAgeWaRvgm1U74VjGg1zhe9Hh9YzMxMJFeuPzJhx/+eYeHuzyHrZJbFFwpKn2ffXRi2QcsO5t3cd5S7oKjrmp4HF733ff/2IP3/PkYGzVhMHCtLLkuQ75Z87+VZo5f8ZGIjE2xdezN99xtT/wBpf7xVA7h9ylIypqV5ouUs7LGoaDNfNjZyoS2Vt/4mq2/cN+d791YP+kDADC92IY/hunXv3DTyt2XLMM18QsblFn3dr762OO/9Mz53593jxa9YlSWqRMBcSAw4eiRlbtOn3zgjtNvO3nsoXGzQTyIzR2tvzq99LcDwPSbqhGCEkEFV3aunL9w+ZG9vW8czLf7su/CeDY9sza5/cTmnUfXXjuqpmCAWkMGIjTSqxMbf5sAAChIAII6MxArwYEMairJuCeuTWvnAJhoSzQQMWwECwCB9NXp7V+2/i+9b+7ORlZP8QAAAABJRU5ErkJggg==\n"
                },
                "metadata": {}
              }
            ]
          }
        },
        "51e62be9a45046caace202faed363dfc": {
          "model_module": "@jupyter-widgets/controls",
          "model_name": "LabelModel",
          "model_module_version": "1.5.0",
          "state": {
            "_dom_classes": [],
            "_model_module": "@jupyter-widgets/controls",
            "_model_module_version": "1.5.0",
            "_model_name": "LabelModel",
            "_view_count": null,
            "_view_module": "@jupyter-widgets/controls",
            "_view_module_version": "1.5.0",
            "_view_name": "LabelView",
            "description": "",
            "description_tooltip": null,
            "layout": "IPY_MODEL_880217f80bda4393948d09a6aac1fdac",
            "placeholder": "​",
            "style": "IPY_MODEL_ab06398a270c4f128db341a2e742daee",
            "value": "Category - Dasheri, Probability - 0.8755"
          }
        },
        "52cb5b7dbcb34c32bcca6d5dad2b0afc": {
          "model_module": "@jupyter-widgets/base",
          "model_name": "LayoutModel",
          "model_module_version": "1.2.0",
          "state": {
            "_model_module": "@jupyter-widgets/base",
            "_model_module_version": "1.2.0",
            "_model_name": "LayoutModel",
            "_view_count": null,
            "_view_module": "@jupyter-widgets/base",
            "_view_module_version": "1.2.0",
            "_view_name": "LayoutView",
            "align_content": null,
            "align_items": null,
            "align_self": null,
            "border": null,
            "bottom": null,
            "display": null,
            "flex": null,
            "flex_flow": null,
            "grid_area": null,
            "grid_auto_columns": null,
            "grid_auto_flow": null,
            "grid_auto_rows": null,
            "grid_column": null,
            "grid_gap": null,
            "grid_row": null,
            "grid_template_areas": null,
            "grid_template_columns": null,
            "grid_template_rows": null,
            "height": null,
            "justify_content": null,
            "justify_items": null,
            "left": null,
            "margin": null,
            "max_height": null,
            "max_width": null,
            "min_height": null,
            "min_width": null,
            "object_fit": null,
            "object_position": null,
            "order": null,
            "overflow": null,
            "overflow_x": null,
            "overflow_y": null,
            "padding": null,
            "right": null,
            "top": null,
            "visibility": null,
            "width": null
          }
        },
        "f27be77b21964db6b7a48c6ec7889c89": {
          "model_module": "@jupyter-widgets/base",
          "model_name": "LayoutModel",
          "model_module_version": "1.2.0",
          "state": {
            "_model_module": "@jupyter-widgets/base",
            "_model_module_version": "1.2.0",
            "_model_name": "LayoutModel",
            "_view_count": null,
            "_view_module": "@jupyter-widgets/base",
            "_view_module_version": "1.2.0",
            "_view_name": "LayoutView",
            "align_content": null,
            "align_items": null,
            "align_self": null,
            "border": null,
            "bottom": null,
            "display": null,
            "flex": null,
            "flex_flow": null,
            "grid_area": null,
            "grid_auto_columns": null,
            "grid_auto_flow": null,
            "grid_auto_rows": null,
            "grid_column": null,
            "grid_gap": null,
            "grid_row": null,
            "grid_template_areas": null,
            "grid_template_columns": null,
            "grid_template_rows": null,
            "height": null,
            "justify_content": null,
            "justify_items": null,
            "left": null,
            "margin": null,
            "max_height": null,
            "max_width": null,
            "min_height": null,
            "min_width": null,
            "object_fit": null,
            "object_position": null,
            "order": null,
            "overflow": null,
            "overflow_x": null,
            "overflow_y": null,
            "padding": null,
            "right": null,
            "top": null,
            "visibility": null,
            "width": null
          }
        },
        "e26d8d5a93c64a40816ae43466c08dc2": {
          "model_module": "@jupyter-widgets/controls",
          "model_name": "DescriptionStyleModel",
          "model_module_version": "1.5.0",
          "state": {
            "_model_module": "@jupyter-widgets/controls",
            "_model_module_version": "1.5.0",
            "_model_name": "DescriptionStyleModel",
            "_view_count": null,
            "_view_module": "@jupyter-widgets/base",
            "_view_module_version": "1.2.0",
            "_view_name": "StyleView",
            "description_width": ""
          }
        },
        "e8a4510cff7f4cba9d27df2081237e09": {
          "model_module": "@jupyter-widgets/base",
          "model_name": "LayoutModel",
          "model_module_version": "1.2.0",
          "state": {
            "_model_module": "@jupyter-widgets/base",
            "_model_module_version": "1.2.0",
            "_model_name": "LayoutModel",
            "_view_count": null,
            "_view_module": "@jupyter-widgets/base",
            "_view_module_version": "1.2.0",
            "_view_name": "LayoutView",
            "align_content": null,
            "align_items": null,
            "align_self": null,
            "border": null,
            "bottom": null,
            "display": null,
            "flex": null,
            "flex_flow": null,
            "grid_area": null,
            "grid_auto_columns": null,
            "grid_auto_flow": null,
            "grid_auto_rows": null,
            "grid_column": null,
            "grid_gap": null,
            "grid_row": null,
            "grid_template_areas": null,
            "grid_template_columns": null,
            "grid_template_rows": null,
            "height": null,
            "justify_content": null,
            "justify_items": null,
            "left": null,
            "margin": null,
            "max_height": null,
            "max_width": null,
            "min_height": null,
            "min_width": null,
            "object_fit": null,
            "object_position": null,
            "order": null,
            "overflow": null,
            "overflow_x": null,
            "overflow_y": null,
            "padding": null,
            "right": null,
            "top": null,
            "visibility": null,
            "width": null
          }
        },
        "c22d524ec5ce49569828ec5019b2c3db": {
          "model_module": "@jupyter-widgets/controls",
          "model_name": "ButtonStyleModel",
          "model_module_version": "1.5.0",
          "state": {
            "_model_module": "@jupyter-widgets/controls",
            "_model_module_version": "1.5.0",
            "_model_name": "ButtonStyleModel",
            "_view_count": null,
            "_view_module": "@jupyter-widgets/base",
            "_view_module_version": "1.2.0",
            "_view_name": "StyleView",
            "button_color": null,
            "font_weight": ""
          }
        },
        "c651d14766f247caaa3d696bd69f39f5": {
          "model_module": "@jupyter-widgets/base",
          "model_name": "LayoutModel",
          "model_module_version": "1.2.0",
          "state": {
            "_model_module": "@jupyter-widgets/base",
            "_model_module_version": "1.2.0",
            "_model_name": "LayoutModel",
            "_view_count": null,
            "_view_module": "@jupyter-widgets/base",
            "_view_module_version": "1.2.0",
            "_view_name": "LayoutView",
            "align_content": null,
            "align_items": null,
            "align_self": null,
            "border": null,
            "bottom": null,
            "display": null,
            "flex": null,
            "flex_flow": null,
            "grid_area": null,
            "grid_auto_columns": null,
            "grid_auto_flow": null,
            "grid_auto_rows": null,
            "grid_column": null,
            "grid_gap": null,
            "grid_row": null,
            "grid_template_areas": null,
            "grid_template_columns": null,
            "grid_template_rows": null,
            "height": null,
            "justify_content": null,
            "justify_items": null,
            "left": null,
            "margin": null,
            "max_height": null,
            "max_width": null,
            "min_height": null,
            "min_width": null,
            "object_fit": null,
            "object_position": null,
            "order": null,
            "overflow": null,
            "overflow_x": null,
            "overflow_y": null,
            "padding": null,
            "right": null,
            "top": null,
            "visibility": null,
            "width": null
          }
        },
        "f9508d133cbe458bbaa3401adad8dafe": {
          "model_module": "@jupyter-widgets/controls",
          "model_name": "ButtonStyleModel",
          "model_module_version": "1.5.0",
          "state": {
            "_model_module": "@jupyter-widgets/controls",
            "_model_module_version": "1.5.0",
            "_model_name": "ButtonStyleModel",
            "_view_count": null,
            "_view_module": "@jupyter-widgets/base",
            "_view_module_version": "1.2.0",
            "_view_name": "StyleView",
            "button_color": null,
            "font_weight": ""
          }
        },
        "880217f80bda4393948d09a6aac1fdac": {
          "model_module": "@jupyter-widgets/base",
          "model_name": "LayoutModel",
          "model_module_version": "1.2.0",
          "state": {
            "_model_module": "@jupyter-widgets/base",
            "_model_module_version": "1.2.0",
            "_model_name": "LayoutModel",
            "_view_count": null,
            "_view_module": "@jupyter-widgets/base",
            "_view_module_version": "1.2.0",
            "_view_name": "LayoutView",
            "align_content": null,
            "align_items": null,
            "align_self": null,
            "border": null,
            "bottom": null,
            "display": null,
            "flex": null,
            "flex_flow": null,
            "grid_area": null,
            "grid_auto_columns": null,
            "grid_auto_flow": null,
            "grid_auto_rows": null,
            "grid_column": null,
            "grid_gap": null,
            "grid_row": null,
            "grid_template_areas": null,
            "grid_template_columns": null,
            "grid_template_rows": null,
            "height": null,
            "justify_content": null,
            "justify_items": null,
            "left": null,
            "margin": null,
            "max_height": null,
            "max_width": null,
            "min_height": null,
            "min_width": null,
            "object_fit": null,
            "object_position": null,
            "order": null,
            "overflow": null,
            "overflow_x": null,
            "overflow_y": null,
            "padding": null,
            "right": null,
            "top": null,
            "visibility": null,
            "width": null
          }
        },
        "ab06398a270c4f128db341a2e742daee": {
          "model_module": "@jupyter-widgets/controls",
          "model_name": "DescriptionStyleModel",
          "model_module_version": "1.5.0",
          "state": {
            "_model_module": "@jupyter-widgets/controls",
            "_model_module_version": "1.5.0",
            "_model_name": "DescriptionStyleModel",
            "_view_count": null,
            "_view_module": "@jupyter-widgets/base",
            "_view_module_version": "1.2.0",
            "_view_name": "StyleView",
            "description_width": ""
          }
        },
        "f739a4c238f04585b67698dedb02bebd": {
          "model_module": "@jupyter-widgets/base",
          "model_name": "LayoutModel",
          "model_module_version": "1.2.0",
          "state": {
            "_model_module": "@jupyter-widgets/base",
            "_model_module_version": "1.2.0",
            "_model_name": "LayoutModel",
            "_view_count": null,
            "_view_module": "@jupyter-widgets/base",
            "_view_module_version": "1.2.0",
            "_view_name": "LayoutView",
            "align_content": null,
            "align_items": null,
            "align_self": null,
            "border": null,
            "bottom": null,
            "display": null,
            "flex": null,
            "flex_flow": null,
            "grid_area": null,
            "grid_auto_columns": null,
            "grid_auto_flow": null,
            "grid_auto_rows": null,
            "grid_column": null,
            "grid_gap": null,
            "grid_row": null,
            "grid_template_areas": null,
            "grid_template_columns": null,
            "grid_template_rows": null,
            "height": null,
            "justify_content": null,
            "justify_items": null,
            "left": null,
            "margin": null,
            "max_height": null,
            "max_width": null,
            "min_height": null,
            "min_width": null,
            "object_fit": null,
            "object_position": null,
            "order": null,
            "overflow": null,
            "overflow_x": null,
            "overflow_y": null,
            "padding": null,
            "right": null,
            "top": null,
            "visibility": null,
            "width": null
          }
        }
      }
    }
  },
  "cells": [
    {
      "cell_type": "markdown",
      "metadata": {
        "id": "view-in-github",
        "colab_type": "text"
      },
      "source": [
        "<a href=\"https://colab.research.google.com/github/chandra-gorentla/Mangos-App/blob/master/Mangoes_Deployment.ipynb\" target=\"_parent\"><img src=\"https://colab.research.google.com/assets/colab-badge.svg\" alt=\"Open In Colab\"/></a>"
      ]
    },
    {
      "cell_type": "code",
      "source": [
        "data_path = Path()\n"
      ],
      "metadata": {
        "id": "mQtIoLW3I4nO"
      },
      "execution_count": 4,
      "outputs": []
    },
    {
      "cell_type": "code",
      "source": [
        "infer_learn = load_learner(data_path/'export.pkl', cpu=True)"
      ],
      "metadata": {
        "id": "9CM-XByhFc0n"
      },
      "execution_count": 5,
      "outputs": []
    },
    {
      "cell_type": "code",
      "source": [
        "upload_image_button = widgets.FileUpload()"
      ],
      "metadata": {
        "id": "7uHKBPEEF73S"
      },
      "execution_count": 6,
      "outputs": []
    },
    {
      "cell_type": "code",
      "source": [
        "classify_button = widgets.Button(description='Classify Mango')"
      ],
      "metadata": {
        "id": "dzQhOqqScOgQ"
      },
      "execution_count": 7,
      "outputs": []
    },
    {
      "cell_type": "code",
      "source": [
        "out_pl = widgets.Output()\n",
        "lable = widgets.Label()\n",
        "def on_classify_button(change):\n",
        "  upl_image = PILImage.create(upload_image_button.data[-1])\n",
        "  out_pl.clear_output()\n",
        "  with out_pl: display(upl_image.to_thumb(64))\n",
        "  cat, cat_idx, prob = infer_learn.predict(upl_image)\n",
        "  lable.value = f'Category - {cat}, Probability - {prob[cat_idx]:.04f}'\n",
        "\n",
        "classify_button.on_click(on_classify_button)"
      ],
      "metadata": {
        "id": "gwVcqmUbFoPi"
      },
      "execution_count": 8,
      "outputs": []
    },
    {
      "cell_type": "code",
      "source": [
        "#hide_output\n",
        "VBox([widgets.Label('Select your Mango!'), \n",
        "      upload_image_button, classify_button, out_pl, lable])"
      ],
      "metadata": {
        "colab": {
          "base_uri": "https://localhost:8080/",
          "height": 209,
          "referenced_widgets": [
            "c055b4bb837c48e78622f6e4230c3118",
            "25aef5adcec541dab8b3ab4cd12451f7",
            "9a8d6cd9bd134575a45a2d9c0e136225",
            "ae36873722d040f5a53759792ad28711",
            "f9e26c71ad574bf6b01ffea752dce006",
            "51e62be9a45046caace202faed363dfc",
            "52cb5b7dbcb34c32bcca6d5dad2b0afc",
            "f27be77b21964db6b7a48c6ec7889c89",
            "e26d8d5a93c64a40816ae43466c08dc2",
            "e8a4510cff7f4cba9d27df2081237e09",
            "c22d524ec5ce49569828ec5019b2c3db",
            "c651d14766f247caaa3d696bd69f39f5",
            "f9508d133cbe458bbaa3401adad8dafe",
            "880217f80bda4393948d09a6aac1fdac",
            "ab06398a270c4f128db341a2e742daee",
            "f739a4c238f04585b67698dedb02bebd"
          ]
        },
        "id": "uJBQg9Evdiv7",
        "outputId": "883fb282-ea3d-4cc6-9a6f-28189f9db9c9"
      },
      "execution_count": 9,
      "outputs": [
        {
          "output_type": "display_data",
          "data": {
            "text/plain": [
              "VBox(children=(Label(value='Select your Mango!'), FileUpload(value={}, description='Upload'), Button(descripti…"
            ],
            "application/vnd.jupyter.widget-view+json": {
              "version_major": 2,
              "version_minor": 0,
              "model_id": "c055b4bb837c48e78622f6e4230c3118"
            }
          },
          "metadata": {}
        },
        {
          "output_type": "display_data",
          "data": {
            "text/plain": [
              "<IPython.core.display.HTML object>"
            ],
            "text/html": [
              "\n",
              "<style>\n",
              "    /* Turns off some styling */\n",
              "    progress {\n",
              "        /* gets rid of default border in Firefox and Opera. */\n",
              "        border: none;\n",
              "        /* Needs to be in here for Safari polyfill so background images work as expected. */\n",
              "        background-size: auto;\n",
              "    }\n",
              "    .progress-bar-interrupted, .progress-bar-interrupted::-webkit-progress-bar {\n",
              "        background: #F44336;\n",
              "    }\n",
              "</style>\n"
            ]
          },
          "metadata": {}
        },
        {
          "output_type": "display_data",
          "data": {
            "text/plain": [
              "<IPython.core.display.HTML object>"
            ],
            "text/html": [
              ""
            ]
          },
          "metadata": {}
        }
      ]
    }
  ]
}
